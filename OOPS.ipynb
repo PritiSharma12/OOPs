{
  "nbformat": 4,
  "nbformat_minor": 0,
  "metadata": {
    "colab": {
      "provenance": []
    },
    "kernelspec": {
      "name": "python3",
      "display_name": "Python 3"
    },
    "language_info": {
      "name": "python"
    }
  },
  "cells": [
    {
      "cell_type": "markdown",
      "source": [
        "# Python OOPs\n"
      ],
      "metadata": {
        "id": "n6FhK2ztxCoE"
      }
    },
    {
      "cell_type": "markdown",
      "source": [
        "1.  What is Object-Oriented Programming (OOP)?\n",
        "\n",
        "  - Object-Oriented Programming (OOP) is a programming\n",
        "     paradigm that organizes code around objects rather than functions and logic. Objects are instances of classes, which define the blueprint for the object's properties (attributes) and behaviors (methods). OOP is widely used in modern software development because it helps create reusable, modular, and maintainable code.\n",
        "\n",
        "2.  What is a class in OOP?\n",
        "\n",
        "   - A class in Object-Oriented Programming (OOP) is a\n",
        "     blueprint or template for creating objects. It defines the properties (attributes) and behaviors (methods) that objects of that class will have.\n",
        "\n",
        "     Key Points About Classes:\n",
        "\n",
        "     A class is like a blueprint for objects.\n",
        "     Objects are instances of a class.\n",
        "     Classes define attributes (variables) and methods (functions) that objects will have.\n",
        "\n",
        "3.  What is an object in OOP?\n",
        "\n",
        "   - An object in Object-Oriented Programming (OOP) is\n",
        "     an instance of a class. It is a real-world entity that has attributes (data) and methods (behavior).\n",
        "\n",
        "     Key Characteristics of an Object:\n",
        "\n",
        "    * Identity: Every object has a unique identity\n",
        "      (memory location).\n",
        "    * State: Defined by its attributes (variables).\n",
        "    * Behavior: Defined by its methods (functions).\n",
        "\n",
        "4. What is the difference between abstraction and\n",
        "   encapsulation?\n",
        "\n",
        "  -  Both abstraction and encapsulation are key\n",
        "     concepts in Object-Oriented Programming (OOP), but they serve different purposes.\n",
        "\n",
        "  Key Differences Between Encapsulation and Abstraction\n",
        "\n",
        "* Encapsulation is the practice of bundling data and methods within a single unit, like a class, and controlling their access, whereas abstraction is about hiding complex implementation details and exposing only the essential functionalities.\n",
        "\n",
        "* Abstraction reduces complexity by focusing on the essential features needed for a particular context, without delving into the underlying technicalities. On the other hand, encapsulation secures data and functions within a class, preventing unauthorized access and modification.\n",
        "\n",
        "* Encapsulation centers around how an object's data is accessed and manipulated, ensuring data integrity and privacy. Meanwhile, abstraction deals with what an object does, simplifying the representation of complex systems.\n",
        "\n",
        "5. What are dunder methods in Python?\n",
        "\n",
        "  - Dunder Methods (Magic Methods) in Python\n",
        "\n",
        "     Dunder (short for double underscore) methods in Python are special methods that start and end with double underscores (e.g., __init__, __str__). They enable built-in behaviors for objects, such as initialization, representation, addition, and comparisons.\n",
        "\n",
        "     Common Dunder Methods & Their Uses   \n",
        "\n",
        "     Dunder Method\tPurpose\n",
        "\n",
        "     __init__\t Constructor method, initializes an object.\n",
        "              \n",
        "     __str__\t  Defines the string representation of an object(using by print).\n",
        "                \n",
        "     __repr__ \tProvides an official string representing for debugging.\n",
        "              \n",
        "     __len__\t  Defines behavior for len() function.\n",
        "\n",
        "     __getitem__\t Allows indexing (obj[key]).\n",
        "\n",
        "     __setitem__\tAllows setting a value (obj[key] = value).\n",
        "                \n",
        "     __delitem__\tDefines behavior for del obj[key].\n",
        "\n",
        "     __call__\t   Allows an object to be called like a function(obj()).\n",
        "              \n",
        "     __add__, __sub__, __mul__\t Enable arithmetic objects (+, -, *) on objects.\n",
        "            \n",
        "     __eq__, __lt__, __gt__\tEnable comparison operators (==, <, >).\n",
        "            \n",
        "       \n",
        "6. Explain the concept of inheritance in OOP?\n",
        "\n",
        "   - Inheritance in Object-Oriented Programming (OOP)\n",
        "\n",
        "     Inheritance is a fundamental concept in Object-Oriented Programming (OOP) that allows one class (called the child or subclass) to inherit attributes and methods from another class (called the parent or superclass). This enables code reusability, hierarchy structuring, and easier maintenance.\n",
        "\n",
        "Key Features of Inheritance\n",
        "\n",
        "Parent (Super) Class – The class whose attributes and methods are inherited.\n",
        "\n",
        "Child (Sub) Class – The class that inherits from the parent class.\n",
        "\n",
        "Reusability – The child class can use or override the properties and methods of the parent class without rewriting the same code.\n",
        "\n",
        "Method Overriding – The child class can provide its own implementation of a method inherited from the parent class.\n",
        "\n",
        "Access Modifiers – Control how the inherited members are accessed (e.g., public, protected, private).     \n",
        "\n",
        "Types of Inheritance\n",
        "\n",
        "Single Inheritance – One child class inherits from one parent class.\n",
        "\n",
        "Multiple Inheritance – A child class inherits from more than one parent class (not supported in Java but possible in Python).\n",
        "\n",
        "Multilevel Inheritance – A child class inherits from another child class, forming a chain.\n",
        "\n",
        "Hierarchical Inheritance – Multiple child classes inherit from a single parent class.\n",
        "\n",
        "Hybrid Inheritance – A combination of two or more types of inheritance (often using interfaces in Java or C++ to avoid complexities).\n",
        "\n",
        "Example in Python\n",
        "\n"
      ],
      "metadata": {
        "id": "GZhlt4PuxbED"
      }
    },
    {
      "cell_type": "code",
      "source": [
        "# Parent class\n",
        "class Animal:\n",
        "    def __init__(self, name):\n",
        "        self.name = name\n",
        "\n",
        "    def speak(self):\n",
        "        return \"Animal sound\"\n",
        "\n",
        "# Child class inheriting from Animal\n",
        "class Dog(Animal):\n",
        "    def speak(self):  # Overriding the method\n",
        "        return \"Bark\"\n",
        "\n",
        "# Creating an object of the Dog class\n",
        "dog = Dog(\"Buddy\")\n",
        "print(dog.name)\n",
        "print(dog.speak())\n"
      ],
      "metadata": {
        "colab": {
          "base_uri": "https://localhost:8080/"
        },
        "id": "goSGohpMuWZD",
        "outputId": "ce903566-db06-4c38-c3b6-b25dfe4d3fdf"
      },
      "execution_count": null,
      "outputs": [
        {
          "output_type": "stream",
          "name": "stdout",
          "text": [
            "Buddy\n",
            "Bark\n"
          ]
        }
      ]
    },
    {
      "cell_type": "markdown",
      "source": [
        "7. What is polymorphism in OOP?\n",
        "\n",
        "   - Polymorphism in Object-Oriented Programming (OOP)\n",
        "\n",
        "     Polymorphism is a core concept of OOP that allows objects of different classes to be treated as objects of a common super class. The term \"polymorphism\" comes from the Greek words poly (many) and morph (forms), meaning \"many forms.\"\n",
        "\n",
        "     Polymorphism enables a single function, method, or operator to operate in multiple ways depending on the context, improving code flexibility and reusability.\n",
        "\n",
        "     Types of Polymorphism\n",
        "\n",
        "     Compile-time Polymorphism (Static Binding or Method Overloading)\n",
        "\n",
        "     Achieved using method overloading or operator overloading.\n",
        "     The method to be executed is determined at compile time.\n",
        "\n",
        "     Runtime Polymorphism (Dynamic Binding or Method Overriding)\n",
        "\n",
        "     Achieved using method overriding in inheritance.\n",
        "     The method to be executed is determined at runtime using dynamic method dispatch.\n",
        "\n",
        "8.  How is encapsulation achieved in Python?\n",
        "\n",
        "    - Encapsulation in Python\n",
        "\n",
        "      Encapsulation is one of the core principles of Object-Oriented Programming (OOP). It refers to restricting direct access to an object's data and modifying it only through defined methods. This ensures data protection, security, and better control over how attributes and methods are accessed or modified.\n",
        "\n",
        "      How is Encapsulation Achieved in Python\n",
        "\n",
        "      Python achieves encapsulation using:\n",
        "\n",
        "     1. Access Modifiers (public, protected, private)\n",
        "     2. Getter and Setter Methods\n",
        "     3. The property Decorator\n",
        "\n",
        "9. What is a constructor in Python?\n",
        "\n",
        "   - A constructor is a special method in Python used for initializing an  \n",
        "     object when it is created. In Python, the constructor method is named __init__(), and it is automatically called when a new instance of a class is created.\n",
        "\n",
        "10. What are class and static methods in Python?  \n",
        "\n",
        "    - Class and Static Methods in Python\n",
        "\n",
        "     In Python, class methods and static methods are two types of methods that are defined within a class but have different behaviors compared to instance methods. They are defined using the @classmethod and @staticmethod decorators, respectively.\n",
        "\n",
        "1. Class Methods (@classmethod)\n",
        "\n",
        "A class method operates on the class itself rather than on instances. It takes cls (instead of self) as its first parameter and can modify class-level attributes.\n",
        "\n",
        "Key Features:\n",
        "✔ Works with the class rather than instances.\n",
        "✔ Uses cls as the first parameter instead of self.\n",
        "✔ Can modify class attributes but not instance attributes.\n",
        "✔ Defined using the @classmethod decorator.\n",
        "\n",
        "2. Static Methods (@staticmethod)\n",
        "\n",
        "A static method does not take self or cls as parameters. It behaves like a regular function but is placed inside a class for logical grouping.\n",
        "\n",
        "Key Features:\n",
        "✔ Does not depend on instance (self) or class (cls).\n",
        "✔ Cannot modify instance or class attributes.\n",
        "✔ Used for utility/helper functions that are related to the class.\n",
        "✔ Defined using the @staticmethod decorator.\n",
        "\n",
        "11. What is method overloading in Python?\n",
        "\n",
        "    - Method Overloading in Python\n",
        "\n",
        "     Method overloading is a concept in Object-Oriented Programming (OOP) where multiple methods in the same class have the same name but different parameters. This allows a single method name to handle different types or numbers of arguments.\n",
        "\n",
        "12. What is method overriding in OOP?    \n",
        "\n",
        "    - Method Overriding in OOP\n",
        "\n",
        "     Method overriding is an OOP feature that allows a child (subclass) to provide a specific implementation of a method that is already defined in its parent (superclass). The overridden method in the child class must have the same name, parameters, and return type as in the parent class.\n",
        "\n",
        "Key Features of Method Overriding\n",
        "\n",
        "✔ The method name and signature must be the same in both parent and child classes.\n",
        "✔ The child class method takes precedence over the parent class method when called from an instance of the child class.\n",
        "✔ Used in runtime polymorphism, allowing dynamic method dispatch.\n",
        "✔ The super() function is used to call the parent class method inside the child class.\n",
        "\n",
        "13. What is a property decorator in Python?\n",
        "\n",
        "    - Property Decorator (@property) in Python\n",
        "\n",
        "      The @property decorator in Python is used to define getter, setter, and deleter methods in an elegant and Pythonic way. It allows us to control access to instance attributes while keeping the syntax clean and readable.\n",
        "\n",
        "14. Why is polymorphism important in OOP?\n",
        "\n",
        "    - Polymorphism is one of the four fundamental principles of Object-Oriented\n",
        "      Programming (OOP), alongside Encapsulation, Inheritance, and Abstraction. It allows objects of different classes to be treated as objects of a common superclass, enabling flexibility, scalability, and reusability in software development.\n",
        "\n",
        "Key Takeaways\n",
        "\n",
        "✅ Increases Code Reusability – One method works across multiple classes.\n",
        "\n",
        "✅ Improves Maintainability – Reduces redundant code, making maintenance easier.\n",
        "\n",
        "✅ Supports Scalability – New classes can be added without modifying existing\n",
        "   logic.\n",
        "\n",
        "✅ Enables Runtime Flexibility – The method executed depends on the object type\n",
        "  at runtime.\n",
        "\n",
        "✅ Enhances Loose Coupling – Components can be swapped or extended easily.\n",
        "\n",
        "15. What is an abstract class in Python?\n",
        "\n",
        "    - In Python, an abstract class is a class that cannot be instantiated directly and is meant to serve as a blueprint for other classes. It may contain one or more abstract methods, which must be implemented by any subclass that inherits from it.\n",
        "\n",
        "     Creating an Abstract Class in Python\n",
        "     Python provides the ABC (Abstract Base Class) module from the abc library to define abstract classes.\n",
        "\n",
        "  Key Points:\n",
        "* An abstract class is defined using ABC as its base class.\n",
        "\n",
        "* Abstract methods are declared using the @abstractmethod decorator.\n",
        "\n",
        "* Abstract classes can have both abstract methods and concrete methods.\n",
        "\n",
        "* They cannot be instantiated directly.\n",
        "\n",
        "16. What are the advantages of OOP?\n",
        "\n",
        "    - Object-Oriented Programming (OOP) offers several advantages that make it a powerful paradigm for software development. Here are the key benefits:\n",
        "\n",
        ". Encapsulation\n",
        "Definition: Encapsulation is the bundling of data (attributes) and methods (functions) into a single unit (class).\n",
        "\n",
        "Advantage: Protects data from being modified unintentionally by restricting direct access and enforcing controlled interactions through methods.\n",
        "\n",
        ". Abstraction\n",
        "\n",
        "Definition: Abstraction hides complex implementation details and only exposes the necessary parts of an object.\n",
        "\n",
        "Advantage: Simplifies code management and improves readability.\n",
        "\n",
        ". Inheritance\n",
        "\n",
        "Definition: Inheritance allows a class (child) to inherit attributes and methods from another class (parent).\n",
        "\n",
        "Advantage: Promotes code reuse, reducing redundancy.\n",
        "\n",
        "17. What is the difference between a class variable and an instance variable?\n",
        "\n",
        "    - Difference Between a Class Variable and an Instance Variable in Python 🚀\n",
        "In Python, both class variables and instance variables are used to store data, but they have different scopes, behaviors, and usage.\n",
        "\n",
        "1️⃣ Class Variable\n",
        "\n",
        "A class variable is shared among all instances of the class. It is defined at the class level and remains the same across all objects unless modified at the class level.\n",
        "\n",
        "Characteristics:\n",
        "Shared across all instances of the class.\n",
        "Defined outside methods, at the class level.\n",
        "Changing it via the class name affects all instances.\n",
        "Changing it via an instance creates a new instance variable (instead of modifying the class variable).\n",
        "\n",
        "2️⃣ Instance Variable\n",
        "\n",
        "An instance variable is unique to each object (instance) of a class. It is defined inside the constructor (__init__ method) and belongs to the specific instance.\n",
        "\n",
        "Characteristics:\n",
        "Each instance gets its own copy of instance variables.\n",
        "Defined inside the __init__ method using self.\n",
        "Modifying one instance’s variable does not affect others.\n",
        "\n",
        "Conclusion\n",
        "\n",
        "Use class variables when the data should be shared among all instances.\n",
        "Use instance variables when each object should have its own unique data.\n",
        "\n",
        "18. What is multiple inheritance in Python?\n",
        "\n",
        "    - Multiple inheritance is a feature in Python where a child class can inherit from more than one parent class. This allows the child class to access attributes and methods from multiple base classes.\n",
        "\n",
        "19. Explain the purpose of ‘’__str__’ and ‘__repr__’ ‘ methods in Python.\n",
        "\n",
        "    - __str__ vs __repr__ in Python\n",
        "\n",
        "In Python, both __str__ and __repr__ are special (dunder) methods used to define how objects are represented as strings. However, they serve different purposes.\n",
        "\n",
        "1️⃣ __str__ Method (User-Friendly Representation)\n",
        "\n",
        "The __str__ method returns a human-readable or user-friendly string representation of an object. It is meant to be easy to understand.\n",
        "\n",
        "Key Points:\n",
        "✅ Used when calling str(object) or print(object).\n",
        "✅ Returns a string that is meant for end-users.\n",
        "✅ If __str__ is not defined, Python falls back to __repr__.\n",
        "\n",
        "2️⃣ __repr__ Method (Developer-Friendly Representation)\n",
        "\n",
        "The __repr__ method returns a formal, unambiguous representation of an object. It is intended to be used for debugging and logging.\n",
        "\n",
        "Key Points:\n",
        "✅ Used when calling repr(object).\n",
        "✅ Aims to return a string that can recreate the object if passed to eval().\n",
        "✅ If __repr__ is not defined, Python provides a default representation (e.g., <Car object at 0x000001>).\n",
        "\n",
        "When to Use __str__ and __repr__?\n",
        "\n",
        "✅ Use __str__ when you need a human-readable representation (e.g., print() output).\n",
        "✅ Use __repr__ for debugging and logging, where you need precise object representation.\n",
        "\n",
        "Best Practice:\n",
        "\n",
        "If you define only one, prefer __repr__, as it serves both debugging and fallback for __str__.\n",
        "\n",
        "20. What is the significance of the ‘super()’ function in Python?\n",
        "\n",
        "   -  super() Function in Python\n",
        "\n",
        "The super() function is used in object-oriented programming (OOP) to call a method from a parent class inside a child class. It is commonly used in inheritance to avoid directly referring to the parent class and ensures proper method resolution.\n",
        "\n",
        "1️⃣ Purpose of super()\n",
        "\n",
        "✅ Calls methods from the parent class without explicitly naming it.\n",
        "✅ Supports method resolution order (MRO) in multiple inheritance.\n",
        "✅ Helps in code reusability and maintainability.\n",
        "✅ Ensures correct execution in diamond inheritance problems.\n",
        "\n",
        "Key Benefits of super()\n",
        "\n",
        "✅ Avoids hardcoding parent class names, making code more flexible.\n",
        "✅ Works with multiple inheritance and diamond problem resolution.\n",
        "✅ Ensures that parent class methods are called properly without redundancy.\n",
        "\n",
        "21. What is the significance of the __del__ method in Python?\n",
        "\n",
        "    - __del__ Method in Python (Destructor)\n",
        "\n",
        "The __del__ method in Python is called a destructor. It is automatically invoked when an object is about to be destroyed (i.e., when there are no references to it).\n",
        "\n",
        "1️⃣ Purpose of __del__\n",
        "\n",
        "✅ Used for cleanup operations, like closing files or releasing resources.\n",
        "✅ Called automatically when an object is deleted or goes out of scope.\n",
        "✅ Helps manage memory efficiently by freeing up resources.\n",
        "\n",
        "22. What is the difference between @staticmethod and @classmethod in Python?\n",
        "\n",
        "    - The difference between the Class method and the static method is:\n",
        "\n",
        "* A class method takes cls as the first parameter while a static method needs   no specific parameters.\n",
        "\n",
        "* A class method can access or modify the class state while a static method can’t access or modify it.\n",
        "\n",
        "* In general, static methods know nothing about the class state. They are utility-type methods that take some parameters and work upon those parameters. On the other hand class methods must have class as a parameter.\n",
        "\n",
        "* We use @classmethod decorator in python to create a class method and we use @staticmethod decorator to create a static method in python..\n",
        "\n",
        "23. How does polymorphism work in Python with inheritance?\n",
        "\n",
        "    - 🔹 Polymorphism in Python with Inheritance\n",
        "Polymorphism allows different classes to have methods with the same name but different implementations. This enables flexibility and code reusability.\n",
        "\n",
        "In inheritance-based polymorphism, a child class overrides a method from its parent class, providing a different behavior while maintaining the same interface.\n",
        "\n",
        " Example: Polymorphism in Inheritance\n",
        "\n",
        "\n",
        "\n",
        "\n",
        "\n",
        "\n",
        "     "
      ],
      "metadata": {
        "id": "YM1NVp8dugU6"
      }
    },
    {
      "cell_type": "code",
      "source": [
        "class Animal:\n",
        "    def speak(self):\n",
        "        return \"Animal makes a sound\"\n",
        "\n",
        "class Dog(Animal):\n",
        "    def speak(self):  # Overriding the parent method\n",
        "        return \"Woof!\"\n",
        "\n",
        "class Cat(Animal):\n",
        "    def speak(self):  # Overriding the parent method\n",
        "        return \"Meow!\"\n",
        "\n",
        "# Using polymorphism\n",
        "animals = [Dog(), Cat(), Animal()]\n",
        "\n",
        "for animal in animals:\n",
        "    print(animal.speak())\n"
      ],
      "metadata": {
        "colab": {
          "base_uri": "https://localhost:8080/"
        },
        "id": "pRn61ihzOAXp",
        "outputId": "df75aae2-22a4-46fe-a988-56f33b6ee214"
      },
      "execution_count": 1,
      "outputs": [
        {
          "output_type": "stream",
          "name": "stdout",
          "text": [
            "Woof!\n",
            "Meow!\n",
            "Animal makes a sound\n"
          ]
        }
      ]
    },
    {
      "cell_type": "markdown",
      "source": [
        "🔹 Here, the speak() method is overridden in Dog and Cat, but Python calls the\n",
        "     correct method based on the object type."
      ],
      "metadata": {
        "id": "BN38FNKiOG9w"
      }
    },
    {
      "cell_type": "markdown",
      "source": [
        "24. What is method chaining in Python OOP?\n",
        "\n",
        "    - Method Chaining is a technique in Object-Oriented Programming (OOP) where multiple methods are called on the same object in a single statement. Each method returns self (the object itself), allowing further method calls to be chained together.\n",
        "\n",
        "25. What is the purpose of the __call__ method in Python?\n",
        "\n",
        "    - The __call__ method allows an instance of a class to be called like a function. This means that an object can behave like a function while still maintaining state and attributes.\n",
        "\n",
        "1️⃣ Purpose of __call__\n",
        "\n",
        "✅ Makes an object callable like a function.\n",
        "✅ Allows objects to store state and behavior while being used like functions.\n",
        "✅ Useful for custom function-like behavior, caching, or tracking calls.\n",
        "\n",
        "Example :"
      ],
      "metadata": {
        "id": "NoKgLgCCON-4"
      }
    },
    {
      "cell_type": "code",
      "source": [
        "class Greeting:\n",
        "    def __call__(self, name):\n",
        "        return f\"Hello, {name}!\"\n",
        "\n",
        "# Creating an instance\n",
        "greet = Greeting()\n",
        "\n",
        "# Calling the instance like a function\n",
        "print(greet(\"Priti\"))\n"
      ],
      "metadata": {
        "colab": {
          "base_uri": "https://localhost:8080/"
        },
        "id": "zcXDDmyAOpUw",
        "outputId": "00e7189a-2d35-46f0-9f99-d75933259a80"
      },
      "execution_count": 3,
      "outputs": [
        {
          "output_type": "stream",
          "name": "stdout",
          "text": [
            "Hello, Priti!\n"
          ]
        }
      ]
    },
    {
      "cell_type": "markdown",
      "source": [
        "# Practical Questions and Answers"
      ],
      "metadata": {
        "id": "EUxbIl1zOz5R"
      }
    },
    {
      "cell_type": "code",
      "source": [
        "###Q1. Create a parent class Animal with a method speak() that prints a generic message. Create a child class Dog\n",
        "that overrides the speak() method to print \"Bark!\".\n",
        "\n",
        "# Parent class\n",
        "class Animal:\n",
        "    def speak(self):\n",
        "        print(\"Animal makes a sound\")\n",
        "\n",
        "# Child class overriding the speak() method\n",
        "class Dog(Animal):\n",
        "    def speak(self):\n",
        "        print(\"Bark!\")\n",
        "\n",
        "# Creating instances\n",
        "generic_animal = Animal()\n",
        "dog = Dog()\n",
        "\n",
        "# Calling the speak method\n",
        "generic_animal.speak()\n",
        "dog.speak()\n"
      ],
      "metadata": {
        "colab": {
          "base_uri": "https://localhost:8080/"
        },
        "id": "cmTOoDyxP57A",
        "outputId": "a8714b33-8e25-4081-e106-dad7b59093a8"
      },
      "execution_count": 8,
      "outputs": [
        {
          "output_type": "stream",
          "name": "stdout",
          "text": [
            "Animal makes a sound\n",
            "Bark!\n"
          ]
        }
      ]
    },
    {
      "cell_type": "code",
      "source": [
        "###Q2. Write a program to create an abstract class Shape with a method area(). Derive classes Circle and Rectangle\n",
        "from it and implement the area() method in both.\n",
        "from abc import ABC, abstractmethod\n",
        "\n",
        "# Abstract class\n",
        "class Shape(ABC):\n",
        "    @abstractmethod\n",
        "    def area(self):\n",
        "        pass  # Must be implemented by subclasses\n",
        "\n",
        "# Circle class inheriting from Shape\n",
        "class Circle(Shape):\n",
        "    def __init__(self, radius):\n",
        "        self.radius = radius\n",
        "\n",
        "    def area(self):\n",
        "        return 3.14 * self.radius * self.radius\n",
        "\n",
        "# Rectangle class inheriting from Shape\n",
        "class Rectangle(Shape):\n",
        "    def __init__(self, length, width):\n",
        "        self.length = length\n",
        "        self.width = width\n",
        "\n",
        "    def area(self):\n",
        "        return self.length * self.width\n",
        "\n",
        "# Creating instances\n",
        "circle = Circle(5)\n",
        "rectangle = Rectangle(4, 6)\n",
        "\n",
        "# Printing areas\n",
        "print(f\"Circle Area: {circle.area()}\")\n",
        "print(f\"Rectangle Area: {rectangle.area()}\")\n"
      ],
      "metadata": {
        "colab": {
          "base_uri": "https://localhost:8080/"
        },
        "id": "mdDlVMBCQUhZ",
        "outputId": "f928913e-d1f5-40d6-b931-4079a235f0d4"
      },
      "execution_count": 9,
      "outputs": [
        {
          "output_type": "stream",
          "name": "stdout",
          "text": [
            "Circle Area: 78.5\n",
            "Rectangle Area: 24\n"
          ]
        }
      ]
    },
    {
      "cell_type": "code",
      "source": [
        "###Q3. Implement a multi-level inheritance scenario where a class Vehicle has an attribute type. Derive a class Car\n",
        "and further derive a class ElectricCar that adds a battery attribute.\n",
        "\n",
        "# Base class\n",
        "class Vehicle:\n",
        "    def __init__(self, vehicle_type):\n",
        "        self.vehicle_type = vehicle_type\n",
        "\n",
        "    def show_type(self):\n",
        "        print(f\"Vehicle Type: {self.vehicle_type}\")\n",
        "\n",
        "# Intermediate class inheriting from Vehicle\n",
        "class Car(Vehicle):\n",
        "    def __init__(self, brand, model, vehicle_type=\"Car\"):\n",
        "        super().__init__(vehicle_type)  # Calling parent class constructor\n",
        "        self.brand = brand\n",
        "        self.model = model\n",
        "\n",
        "    def show_details(self):\n",
        "        print(f\"Car: {self.brand} {self.model}\")\n",
        "\n",
        "# Derived class inheriting from Car (multi-level inheritance)\n",
        "class ElectricCar(Car):\n",
        "    def __init__(self, brand, model, battery_capacity):\n",
        "        super().__init__(brand, model)  # Calling Car's constructor\n",
        "        self.battery_capacity = battery_capacity\n",
        "\n",
        "    def show_battery(self):\n",
        "        print(f\"Battery Capacity: {self.battery_capacity} kWh\")\n",
        "\n",
        "# Creating an instance of ElectricCar\n",
        "tesla = ElectricCar(\"Tesla\", \"Model S\", 100)\n",
        "\n",
        "# Using methods from all levels of inheritance\n",
        "tesla.show_type()       # Inherited from Vehicle\n",
        "tesla.show_details()    # Inherited from Car\n",
        "tesla.show_battery()    # Defined in ElectricCar\n"
      ],
      "metadata": {
        "colab": {
          "base_uri": "https://localhost:8080/"
        },
        "id": "R_douTfXQgw4",
        "outputId": "0ac159ac-9289-4adf-e555-db47ccae6d2b"
      },
      "execution_count": 10,
      "outputs": [
        {
          "output_type": "stream",
          "name": "stdout",
          "text": [
            "Vehicle Type: Car\n",
            "Car: Tesla Model S\n",
            "Battery Capacity: 100 kWh\n"
          ]
        }
      ]
    },
    {
      "cell_type": "code",
      "source": [
        "###Q4. Implement a multi-level inheritance scenario where a class Vehicle has an attribute type. Derive a class Car\n",
        "and further derive a class ElectricCar that adds a battery attribute.\n",
        "\n",
        "# Base class\n",
        "class Vehicle:\n",
        "    def __init__(self, vehicle_type):\n",
        "        self.vehicle_type = vehicle_type\n",
        "\n",
        "    def show_type(self):\n",
        "        print(f\"Vehicle Type: {self.vehicle_type}\")\n",
        "\n",
        "# Intermediate class inheriting from Vehicle\n",
        "class Car(Vehicle):\n",
        "    def __init__(self, brand, model, vehicle_type=\"Car\"):\n",
        "        super().__init__(vehicle_type)  # Calling parent class constructor\n",
        "        self.brand = brand\n",
        "        self.model = model\n",
        "\n",
        "    def show_details(self):\n",
        "        print(f\"Car: {self.brand} {self.model}\")\n",
        "\n",
        "# Derived class inheriting from Car (multi-level inheritance)\n",
        "class ElectricCar(Car):\n",
        "    def __init__(self, brand, model, battery_capacity):\n",
        "        super().__init__(brand, model)  # Calling Car's constructor\n",
        "        self.battery_capacity = battery_capacity\n",
        "\n",
        "    def show_battery(self):\n",
        "        print(f\"Battery Capacity: {self.battery_capacity} kWh\")\n",
        "\n",
        "# Creating an instance of ElectricCar\n",
        "tesla = ElectricCar(\"Tesla\", \"Model S\", 100)\n",
        "\n",
        "# Using methods from all levels of inheritance\n",
        "tesla.show_type()       # Inherited from Vehicle\n",
        "tesla.show_details()    # Inherited from Car\n",
        "tesla.show_battery()    # Defined in ElectricCar\n"
      ],
      "metadata": {
        "colab": {
          "base_uri": "https://localhost:8080/"
        },
        "id": "VBZJa-XkQwxW",
        "outputId": "01440d6f-64a6-4e13-9356-9c404c19e3bf"
      },
      "execution_count": 11,
      "outputs": [
        {
          "output_type": "stream",
          "name": "stdout",
          "text": [
            "Vehicle Type: Car\n",
            "Car: Tesla Model S\n",
            "Battery Capacity: 100 kWh\n"
          ]
        }
      ]
    },
    {
      "cell_type": "code",
      "source": [
        "###Q5. Write a program to demonstrate encapsulation by creating a class BankAccount with private attributes\n",
        "balance and methods to deposit, withdraw, and check balance.\n",
        "\n",
        "class BankAccount:\n",
        "    def __init__(self, account_holder, initial_balance=0):\n",
        "        self.account_holder = account_holder\n",
        "        self.__balance = initial_balance  # Private attribute\n",
        "\n",
        "    # Method to deposit money\n",
        "    def deposit(self, amount):\n",
        "        if amount > 0:\n",
        "            self.__balance += amount\n",
        "            print(f\"${amount} deposited successfully.\")\n",
        "        else:\n",
        "            print(\"Deposit amount must be positive.\")\n",
        "\n",
        "    # Method to withdraw money\n",
        "    def withdraw(self, amount):\n",
        "        if 0 < amount <= self.__balance:\n",
        "            self.__balance -= amount\n",
        "            print(f\"${amount} withdrawn successfully.\")\n",
        "        else:\n",
        "            print(\"Insufficient balance or invalid amount.\")\n",
        "\n",
        "    # Method to check balance\n",
        "    def check_balance(self):\n",
        "        print(f\"Account balance: ${self.__balance}\")\n",
        "\n",
        "# Creating an instance of BankAccount\n",
        "account = BankAccount(\"Alice\", 1000)\n",
        "\n",
        "# Performing transactions\n",
        "account.deposit(500)         # Depositing money\n",
        "account.withdraw(300)        # Withdrawing money\n",
        "account.check_balance()      # Checking balance\n",
        "\n",
        "# Attempting direct access to private attribute (will fail)\n",
        "# print(account.__balance)  # AttributeError: 'BankAccount' object has no attribute '__balance'\n"
      ],
      "metadata": {
        "colab": {
          "base_uri": "https://localhost:8080/"
        },
        "id": "zKS7Xu4FRH8t",
        "outputId": "8cbaadd7-6bd5-413e-92d9-63af52ea859a"
      },
      "execution_count": 12,
      "outputs": [
        {
          "output_type": "stream",
          "name": "stdout",
          "text": [
            "$500 deposited successfully.\n",
            "$300 withdrawn successfully.\n",
            "Account balance: $1200\n"
          ]
        }
      ]
    },
    {
      "cell_type": "code",
      "source": [
        "###Q6. Demonstrate runtime polymorphism using a method play() in a base class Instrument. Derive classes Guitar\n",
        "and Piano that implement their own version of play().\n",
        "\n",
        "# Base class\n",
        "class Instrument:\n",
        "    def play(self):\n",
        "        print(\"Playing an instrument...\")\n",
        "\n",
        "# Derived class 1 (Guitar)\n",
        "class Guitar(Instrument):\n",
        "    def play(self):\n",
        "        print(\"Strumming the guitar 🎸\")\n",
        "\n",
        "# Derived class 2 (Piano)\n",
        "class Piano(Instrument):\n",
        "    def play(self):\n",
        "        print(\"Playing the piano 🎹\")\n",
        "\n",
        "# Function demonstrating runtime polymorphism\n",
        "def perform(instrument):\n",
        "    instrument.play()  # Calls the appropriate play() method\n",
        "\n",
        "# Creating instances\n",
        "guitar = Guitar()\n",
        "piano = Piano()\n",
        "instrument = Instrument()\n",
        "\n",
        "# Calling play() dynamically\n",
        "perform(guitar)\n",
        "perform(piano)\n",
        "perform(instrument)\n"
      ],
      "metadata": {
        "colab": {
          "base_uri": "https://localhost:8080/"
        },
        "id": "aZpTYpOPRgxB",
        "outputId": "43cbce54-8bc5-4e45-ccb3-18e438238224"
      },
      "execution_count": 13,
      "outputs": [
        {
          "output_type": "stream",
          "name": "stdout",
          "text": [
            "Strumming the guitar 🎸\n",
            "Playing the piano 🎹\n",
            "Playing an instrument...\n"
          ]
        }
      ]
    },
    {
      "cell_type": "code",
      "source": [
        "###Q7. Create a class MathOperations with a class method add_numbers() to add two numbers and a static\n",
        "method subtract_numbers() to subtract two numbers.\n",
        "\n",
        "class MathOperations:\n",
        "    # Class method: Uses cls to access class-level behavior\n",
        "    @classmethod\n",
        "    def add_numbers(cls, a, b):\n",
        "        return a + b\n",
        "\n",
        "    # Static method: Does not depend on class or instance variables\n",
        "    @staticmethod\n",
        "    def subtract_numbers(a, b):\n",
        "        return a - b\n",
        "\n",
        "# Calling the class method without creating an instance\n",
        "print(\"Addition:\", MathOperations.add_numbers(10, 5))\n",
        "\n",
        "# Calling the static method without creating an instance\n",
        "print(\"Subtraction:\", MathOperations.subtract_numbers(10, 5))\n"
      ],
      "metadata": {
        "colab": {
          "base_uri": "https://localhost:8080/"
        },
        "id": "SRypFW22SRsx",
        "outputId": "72fe4090-ad50-4d2a-8041-0715fc25c01c"
      },
      "execution_count": 14,
      "outputs": [
        {
          "output_type": "stream",
          "name": "stdout",
          "text": [
            "Addition: 15\n",
            "Subtraction: 5\n"
          ]
        }
      ]
    },
    {
      "cell_type": "code",
      "source": [
        " ###Q8. Implement a class Person with a class method to count the total number of persons created\n",
        "\n",
        " class Person:\n",
        "    count = 0  # Class variable to track the number of instances\n",
        "\n",
        "    def __init__(self, name):\n",
        "        self.name = name\n",
        "        Person.count += 1  # Increment count when a new instance is created\n",
        "\n",
        "    @classmethod\n",
        "    def total_persons(cls):\n",
        "        return f\"Total persons created: {cls.count}\"\n",
        "\n",
        "# Creating instances of Person\n",
        "p1 = Person(\"Alice\")\n",
        "p2 = Person(\"Bob\")\n",
        "p3 = Person(\"Charlie\")\n",
        "\n",
        "# Calling the class method\n",
        "print(Person.total_persons())\n"
      ],
      "metadata": {
        "colab": {
          "base_uri": "https://localhost:8080/"
        },
        "id": "RIdZteZNSb7w",
        "outputId": "2269cf9f-ec0d-43c2-ff7f-2af740e7a9f3"
      },
      "execution_count": 15,
      "outputs": [
        {
          "output_type": "stream",
          "name": "stdout",
          "text": [
            "Total persons created: 3\n"
          ]
        }
      ]
    },
    {
      "cell_type": "code",
      "source": [
        "###Q9. Write a class Fraction with attributes numerator and denominator. Override the str method to display the\n",
        "fraction as \"numerator/denominator\".\n",
        "\n",
        "class Fraction:\n",
        "    def __init__(self, numerator, denominator):\n",
        "        if denominator == 0:\n",
        "            raise ValueError(\"Denominator cannot be zero\")  # Prevent division by zero\n",
        "        self.numerator = numerator\n",
        "        self.denominator = denominator\n",
        "\n",
        "    def __str__(self):\n",
        "        return f\"{self.numerator}/{self.denominator}\"\n",
        "\n",
        "# Creating Fraction instances\n",
        "fraction1 = Fraction(3, 4)\n",
        "fraction2 = Fraction(5, 8)\n",
        "\n",
        "# Printing fractions (calls __str__ method)\n",
        "print(fraction1)\n",
        "print(fraction2)\n"
      ],
      "metadata": {
        "colab": {
          "base_uri": "https://localhost:8080/"
        },
        "id": "QdP-MGnpTcax",
        "outputId": "62071c98-01eb-4a51-ac07-1ce2d150e2e4"
      },
      "execution_count": 16,
      "outputs": [
        {
          "output_type": "stream",
          "name": "stdout",
          "text": [
            "3/4\n",
            "5/8\n"
          ]
        }
      ]
    },
    {
      "cell_type": "code",
      "source": [
        "###Q10. Demonstrate operator overloading by creating a class Vector and overriding the add method to add two vectors.\n",
        "\n",
        "class Vector:\n",
        "    def __init__(self, x, y):\n",
        "        self.x = x\n",
        "        self.y = y\n",
        "\n",
        "    # Overloading the + operator\n",
        "    def __add__(self, other):\n",
        "        if not isinstance(other, Vector):\n",
        "            raise TypeError(\"Operands must be of type Vector\")\n",
        "        return Vector(self.x + other.x, self.y + other.y)\n",
        "\n",
        "    def __str__(self):\n",
        "        return f\"({self.x}, {self.y})\"\n",
        "\n",
        "# Creating vector instances\n",
        "v1 = Vector(2, 3)\n",
        "v2 = Vector(4, 5)\n",
        "\n",
        "# Adding two vectors using +\n",
        "v3 = v1 + v2  # Calls __add__()\n",
        "\n",
        "# Printing results\n",
        "print(f\"Vector 1: {v1}\")  # Output: (2, 3)\n",
        "print(f\"Vector 2: {v2}\")  # Output: (4, 5)\n",
        "print(f\"Sum of Vectors: {v3}\")  # Output: (6, 8)\n"
      ],
      "metadata": {
        "colab": {
          "base_uri": "https://localhost:8080/"
        },
        "id": "-25DnKWiTmvc",
        "outputId": "ca7d319b-eeb2-4c07-a7c6-aaf5056d2d88"
      },
      "execution_count": 17,
      "outputs": [
        {
          "output_type": "stream",
          "name": "stdout",
          "text": [
            "Vector 1: (2, 3)\n",
            "Vector 2: (4, 5)\n",
            "Sum of Vectors: (6, 8)\n"
          ]
        }
      ]
    },
    {
      "cell_type": "code",
      "source": [
        " ###Q11. Create a class Person with attributes name and age. Add a method greet() that prints \"Hello, my name is\n",
        "{name} and I am {age} years old.\n",
        "\n",
        "class Person:\n",
        "    def __init__(self, name, age):\n",
        "        self.name = name\n",
        "        self.age = age\n",
        "\n",
        "    def greet(self):\n",
        "        print(f\"Hello, my name is {self.name} and I am {self.age} years old.\")\n",
        "\n",
        "# Creating instances of Person\n",
        "p1 = Person(\"Priti\", 21)\n",
        "p2 = Person(\"Subham\", 22)\n",
        "\n",
        "# Calling the greet method\n",
        "p1.greet()  # Output: Hello, my name is Priti and I am 21 years old.\n",
        "p2.greet()  # Output: Hello, my name is Subham and I am 22 years old.\n"
      ],
      "metadata": {
        "colab": {
          "base_uri": "https://localhost:8080/"
        },
        "id": "HbTVui4sYrH5",
        "outputId": "c73f78ae-63ab-4642-ee1d-7b8200f0ee2b"
      },
      "execution_count": 24,
      "outputs": [
        {
          "output_type": "stream",
          "name": "stdout",
          "text": [
            "Hello, my name is Priti and I am 21 years old.\n",
            "Hello, my name is Subham and I am 22 years old.\n"
          ]
        }
      ]
    },
    {
      "cell_type": "code",
      "source": [
        "###Q12. Implement a class Student with attributes name and grades. Create a method average_grade() to compute\n",
        "the average of the grades.\n",
        "\n",
        "class Student:\n",
        "    def __init__(self, name, grades):\n",
        "        self.name = name\n",
        "        self.grades = grades  # List of grades\n",
        "\n",
        "    def average_grade(self):\n",
        "        if not self.grades:\n",
        "            return 0  # Return 0 if no grades are available to avoid division by zero\n",
        "        return sum(self.grades) / len(self.grades)\n",
        "\n",
        "    def display(self):\n",
        "        print(f\"Student: {self.name}, Average Grade: {self.average_grade():.2f}\")\n",
        "\n",
        "# Creating Student instances\n",
        "s1 = Student(\"Priti\", [85, 90, 78, 92])\n",
        "s2 = Student(\"Subham\", [70, 88, 95, 80, 85])\n",
        "s3 = Student(\"Ankit\", [])  # Student with no grades\n",
        "\n",
        "# Displaying student details\n",
        "s1.display()  # Output: Student: Priti, Average Grade: 86.25\n",
        "s2.display()  # Output: Student: Subham, Average Grade: 83.60\n",
        "s3.display()  # Output: Student: Ankit, Average Grade: 0.00\n"
      ],
      "metadata": {
        "colab": {
          "base_uri": "https://localhost:8080/"
        },
        "id": "rz0Y-7adY9Gf",
        "outputId": "4f83d58c-5dac-438b-cc2c-a803e6122fe6"
      },
      "execution_count": 25,
      "outputs": [
        {
          "output_type": "stream",
          "name": "stdout",
          "text": [
            "Student: Priti, Average Grade: 86.25\n",
            "Student: Subham, Average Grade: 83.60\n",
            "Student: Ankit, Average Grade: 0.00\n"
          ]
        }
      ]
    },
    {
      "cell_type": "code",
      "source": [
        "###Q13. Create a class Rectangle with methods set_dimensions() to set the dimensions and area() to calculate the\n",
        "area.\n",
        "\n",
        "class Rectangle:\n",
        "    def __init__(self, length=0, width=0):\n",
        "        self.length = length\n",
        "        self.width = width\n",
        "\n",
        "    def set_dimensions(self, length, width):\n",
        "        \"\"\"Sets the length and width of the rectangle.\"\"\"\n",
        "        self.length = length\n",
        "        self.width = width\n",
        "\n",
        "    def area(self):\n",
        "        \"\"\"Calculates and returns the area of the rectangle.\"\"\"\n",
        "        return self.length * self.width\n",
        "\n",
        "    def display(self):\n",
        "        \"\"\"Displays the rectangle's dimensions and area.\"\"\"\n",
        "        print(f\"Rectangle: Length = {self.length}, Width = {self.width}, Area = {self.area()}\")\n",
        "\n",
        "# Creating a Rectangle instance\n",
        "rect = Rectangle()\n",
        "\n",
        "# Setting dimensions using set_dimensions()\n",
        "rect.set_dimensions(5, 10)\n",
        "\n",
        "# Displaying the rectangle's properties\n",
        "rect.display()  # Output: Rectangle: Length = 5, Width = 10, Area = 50\n"
      ],
      "metadata": {
        "colab": {
          "base_uri": "https://localhost:8080/"
        },
        "id": "tZzArpSEaAqB",
        "outputId": "9dcc6e30-e37b-487f-aa28-2aeef7e10f39"
      },
      "execution_count": 26,
      "outputs": [
        {
          "output_type": "stream",
          "name": "stdout",
          "text": [
            "Rectangle: Length = 5, Width = 10, Area = 50\n"
          ]
        }
      ]
    },
    {
      "cell_type": "code",
      "source": [
        "###Q14. Create a class Employee with a method calculate_salary() that computes the salary based on hours worked\n",
        "and hourly rate. Create a derived class Manager that adds a bonus to the salary.\n",
        "\n",
        "# Base class\n",
        "class Employee:\n",
        "    def __init__(self, name, hours_worked, hourly_rate):\n",
        "        self.name = name\n",
        "        self.hours_worked = hours_worked\n",
        "        self.hourly_rate = hourly_rate\n",
        "\n",
        "    def calculate_salary(self):\n",
        "        \"\"\"Computes salary based on hours worked and hourly rate.\"\"\"\n",
        "        return self.hours_worked * self.hourly_rate\n",
        "\n",
        "    def display_salary(self):\n",
        "        \"\"\"Displays the salary details.\"\"\"\n",
        "        print(f\"{self.name}'s Salary: ${self.calculate_salary():.2f}\")\n",
        "\n",
        "# Derived class (Manager) that adds a bonus\n",
        "class Manager(Employee):\n",
        "    def __init__(self, name, hours_worked, hourly_rate, bonus):\n",
        "        super().__init__(name, hours_worked, hourly_rate)  # Call parent constructor\n",
        "        self.bonus = bonus\n",
        "\n",
        "    def calculate_salary(self):\n",
        "        \"\"\"Computes salary including bonus for a manager.\"\"\"\n",
        "        base_salary = super().calculate_salary()  # Get base salary from Employee\n",
        "        return base_salary + self.bonus  # Add bonus\n",
        "\n",
        "# Creating Employee instance\n",
        "emp = Employee(\"Priti\", 40, 20)  # 40 hours, $20 per hour\n",
        "emp.display_salary()  # Output: Priti's Salary: $800.00\n",
        "\n",
        "# Creating Manager instance\n",
        "mgr = Manager(\"Subham\", 40, 30, 500)  # 40 hours, $30 per hour, $500 bonus\n",
        "mgr.display_salary()  # Output: Subham's Salary: $1700.00\n"
      ],
      "metadata": {
        "colab": {
          "base_uri": "https://localhost:8080/"
        },
        "id": "ra_7dK7jaTY4",
        "outputId": "26da8516-f0b2-4865-8f3c-2b97472ab24f"
      },
      "execution_count": 27,
      "outputs": [
        {
          "output_type": "stream",
          "name": "stdout",
          "text": [
            "Priti's Salary: $800.00\n",
            "Subham's Salary: $1700.00\n"
          ]
        }
      ]
    },
    {
      "cell_type": "code",
      "source": [
        " ###Q15. Create a class Product with attributes name, price, and quantity. Implement a method total_price() that\n",
        "calculates the total price of the product.\n",
        "\n",
        "class Product:\n",
        "    def __init__(self, name, price, quantity):\n",
        "        self.name = name\n",
        "        self.price = price\n",
        "        self.quantity = quantity\n",
        "\n",
        "    def total_price(self):\n",
        "        \"\"\"Calculates total price as price * quantity\"\"\"\n",
        "        return self.price * self.quantity\n",
        "\n",
        "    def display(self):\n",
        "        \"\"\"Displays product details and total price\"\"\"\n",
        "        print(f\"Product: {self.name}, Price: ${self.price:.2f}, Quantity: {self.quantity}, Total: ${self.total_price():.2f}\")\n",
        "\n",
        "# Creating Product instances\n",
        "product1 = Product(\"Laptop\", 1000, 2)  # 2 Laptops at $1000 each\n",
        "product2 = Product(\"Phone\", 500, 3)    # 3 Phones at $500 each\n",
        "\n",
        "# Displaying product details\n",
        "product1.display()  # Output: Product: Laptop, Price: $1000.00, Quantity: 2, Total: $2000.00\n",
        "product2.display()  # Output: Product: Phone, Price: $500.00, Quantity: 3, Total: $1500.00\n"
      ],
      "metadata": {
        "colab": {
          "base_uri": "https://localhost:8080/"
        },
        "id": "DpsqWYN5aiXA",
        "outputId": "964d6602-9b3a-4a71-90cb-51ecfd7ec446"
      },
      "execution_count": 28,
      "outputs": [
        {
          "output_type": "stream",
          "name": "stdout",
          "text": [
            "Product: Laptop, Price: $1000.00, Quantity: 2, Total: $2000.00\n",
            "Product: Phone, Price: $500.00, Quantity: 3, Total: $1500.00\n"
          ]
        }
      ]
    },
    {
      "cell_type": "code",
      "source": [
        " ###Q16. Create a class Animal with an abstract method sound(). Create two derived classes Cow and Sheep that\n",
        "implement the sound() method.\n",
        "\n",
        "from abc import ABC, abstractmethod\n",
        "\n",
        "# Abstract base class\n",
        "class Animal(ABC):\n",
        "    @abstractmethod\n",
        "    def sound(self):\n",
        "        \"\"\"Abstract method that must be implemented by subclasses\"\"\"\n",
        "        pass\n",
        "\n",
        "# Derived class 1: Cow\n",
        "class Cow(Animal):\n",
        "    def sound(self):\n",
        "        return \"Moo! 🐄\"\n",
        "\n",
        "# Derived class 2: Sheep\n",
        "class Sheep(Animal):\n",
        "    def sound(self):\n",
        "        return \"Baa! 🐑\"\n",
        "\n",
        "# Creating instances\n",
        "cow = Cow()\n",
        "sheep = Sheep()\n",
        "\n",
        "# Calling sound method\n",
        "print(f\"Cow: {cow.sound()}\")\n",
        "print(f\"Sheep: {sheep.sound()}\")\n"
      ],
      "metadata": {
        "colab": {
          "base_uri": "https://localhost:8080/"
        },
        "id": "UHKs3srUa2Bn",
        "outputId": "491d9218-bf78-4aed-ae96-ec0f99b03b1c"
      },
      "execution_count": 1,
      "outputs": [
        {
          "output_type": "stream",
          "name": "stdout",
          "text": [
            "Cow: Moo! 🐄\n",
            "Sheep: Baa! 🐑\n"
          ]
        }
      ]
    },
    {
      "cell_type": "code",
      "source": [
        "###Q17. Create a class Book with attributes title, author, and year_published. Add a method get_book_info() that\n",
        "returns a formatted string with the book's details.\n",
        "\n",
        "\n",
        "class Book:\n",
        "    def __init__(self, title, author, year_published):\n",
        "        self.title = title\n",
        "        self.author = author\n",
        "        self.year_published = year_published\n",
        "\n",
        "    def get_book_info(self):\n",
        "        \"\"\"Returns a formatted string with book details\"\"\"\n",
        "        return f\"'{self.title}' by {self.author} (Published: {self.year_published})\"\n",
        "\n",
        "# Creating instances of Book\n",
        "book1 = Book(\"To Kill a Mockingbird\", \"Harper Lee\", 1960)\n",
        "book2 = Book(\"1984\", \"George Orwell\", 1949)\n",
        "\n",
        "# Displaying book information\n",
        "print(book1.get_book_info())\n",
        "print(book2.get_book_info())\n"
      ],
      "metadata": {
        "colab": {
          "base_uri": "https://localhost:8080/"
        },
        "id": "tx5hi5lvbFOp",
        "outputId": "677b1f69-7c2b-49b7-ea2b-a665f3fc1863"
      },
      "execution_count": 2,
      "outputs": [
        {
          "output_type": "stream",
          "name": "stdout",
          "text": [
            "'To Kill a Mockingbird' by Harper Lee (Published: 1960)\n",
            "'1984' by George Orwell (Published: 1949)\n"
          ]
        }
      ]
    },
    {
      "cell_type": "code",
      "source": [
        "###Q18. Create a class House with attributes address and price. Create a derived class Mansion that adds an\n",
        "attribute number_of_rooms.\n",
        "\n",
        "# Base class\n",
        "class House:\n",
        "    def __init__(self, address, price):\n",
        "        self.address = address\n",
        "        self.price = price\n",
        "\n",
        "    def display_info(self):\n",
        "        \"\"\"Displays basic house information\"\"\"\n",
        "        print(f\"Address: {self.address}, Price: ${self.price:,}\")\n",
        "\n",
        "# Derived class (Mansion)\n",
        "class Mansion(House):\n",
        "    def __init__(self, address, price, number_of_rooms):\n",
        "        super().__init__(address, price)  # Calling the parent class constructor\n",
        "        self.number_of_rooms = number_of_rooms\n",
        "\n",
        "    def display_info(self):\n",
        "        \"\"\"Displays mansion details with additional rooms info\"\"\"\n",
        "        super().display_info()  # Call parent method\n",
        "        print(f\"Number of Rooms: {self.number_of_rooms}\")\n",
        "\n",
        "# Creating House instance\n",
        "house1 = House(\"123 Main St, New York\", 500000)\n",
        "house1.display_info()\n",
        "\n",
        "print(\"\\n----------------\\n\")\n",
        "\n",
        "# Creating Mansion instance\n",
        "mansion1 = Mansion(\"456 Luxury Ave, Beverly Hills\", 5000000, 15)\n",
        "mansion1.display_info()\n"
      ],
      "metadata": {
        "colab": {
          "base_uri": "https://localhost:8080/"
        },
        "id": "-zqkCGQxbhrg",
        "outputId": "ca0f3c58-6689-4d71-f807-8b6324ee19d2"
      },
      "execution_count": 3,
      "outputs": [
        {
          "output_type": "stream",
          "name": "stdout",
          "text": [
            "Address: 123 Main St, New York, Price: $500,000\n",
            "\n",
            "----------------\n",
            "\n",
            "Address: 456 Luxury Ave, Beverly Hills, Price: $5,000,000\n",
            "Number of Rooms: 15\n"
          ]
        }
      ]
    }
  ]
}